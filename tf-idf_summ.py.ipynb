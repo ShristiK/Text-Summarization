{
 "cells": [
  {
   "cell_type": "markdown",
   "metadata": {},
   "source": [
    "## Generating Summary using tf-idf Algorithm \n",
    "### STEP 1 : Data cleaning ( removing non letter characters, turning to lower case letters )\n",
    "### STEP 2 : Getting tf-idf score of sentences\n",
    "### STEP 3 : Summary Generation"
   ]
  },
  {
   "cell_type": "markdown",
   "metadata": {},
   "source": [
    "## Initial Phase\n",
    "### Importing Libraries and Reading Data "
   ]
  },
  {
   "cell_type": "code",
   "execution_count": 43,
   "metadata": {},
   "outputs": [],
   "source": [
    "### importing the necessary libraries\n",
    "\n",
    "from nltk.corpus import stopwords\n",
    "import numpy as np\n",
    "import pandas\n",
    "import nltk\n",
    "import re\n",
    "# from __future__ import division"
   ]
  },
  {
   "cell_type": "code",
   "execution_count": 8,
   "metadata": {},
   "outputs": [],
   "source": [
    "df = pandas.read_csv('Downloads/tennis_articles_v4.csv')"
   ]
  },
  {
   "cell_type": "markdown",
   "metadata": {},
   "source": [
    "### Tokenizing sentences into words which would be used for calculating tf-idf scores"
   ]
  },
  {
   "cell_type": "code",
   "execution_count": 10,
   "metadata": {},
   "outputs": [],
   "source": [
    "### tokenized the sentences from the different news articles\n",
    "\n",
    "from nltk.tokenize import sent_tokenize\n",
    "s = \"\"\n",
    "for a in df['article_text']:\n",
    "      s += a\n",
    "sentences = sent_tokenize(s)\n",
    "# sentences"
   ]
  },
  {
   "cell_type": "markdown",
   "metadata": {},
   "source": [
    "## STEP 1 : Data Cleaning\n",
    "### Cleaning sentences, by removing Non Alphabet Characters and converting to Lower Case Letters"
   ]
  },
  {
   "cell_type": "code",
   "execution_count": 15,
   "metadata": {},
   "outputs": [],
   "source": [
    "### pre processes the sentences by removing non alphabet characters and converting them to lower case letters \n",
    "### and stored in variable text\n",
    "\n",
    "dict = {}\n",
    "text=\"\"\n",
    "for a in sentences:\n",
    "    temp = re.sub(\"[^a-zA-Z]\",\" \",a)\n",
    "    temp = temp.lower()\n",
    "    dict[temp] = a\n",
    "    text+=temp\n",
    "# print text"
   ]
  },
  {
   "cell_type": "markdown",
   "metadata": {},
   "source": [
    "## STEP 2 : Getting tf-idf score of sentences\n",
    "### Finding term frequency ( tf ) of words found in text"
   ]
  },
  {
   "cell_type": "code",
   "execution_count": 49,
   "metadata": {},
   "outputs": [],
   "source": [
    "### calculated the frequency of the words found in text\n",
    "\n",
    "stopwords = nltk.corpus.stopwords.words('english')\n",
    "word_frequencies = {}\n",
    "for word in nltk.word_tokenize(text):\n",
    "    if word not in stopwords:\n",
    "        if word not in word_frequencies.keys():\n",
    "            word_frequencies[word] = 1\n",
    "        else:\n",
    "            word_frequencies[word] += 1\n",
    "# print len(word_frequencies)"
   ]
  },
  {
   "cell_type": "markdown",
   "metadata": {},
   "source": [
    "### Finding weighted frequency of the words"
   ]
  },
  {
   "cell_type": "code",
   "execution_count": 52,
   "metadata": {},
   "outputs": [],
   "source": [
    "### finding weighted frequency of the words\n",
    "\n",
    "max_freq = max(word_frequencies.values())\n",
    "\n",
    "for w in word_frequencies :\n",
    "      word_frequencies[w]/=max_freq\n",
    "# print word_frequencies"
   ]
  },
  {
   "cell_type": "markdown",
   "metadata": {},
   "source": [
    "### Calculating sentence scores from the word frequncies"
   ]
  },
  {
   "cell_type": "code",
   "execution_count": 53,
   "metadata": {},
   "outputs": [],
   "source": [
    "### calculating sentence scores from the word frequncies\n",
    "\n",
    "sentence_scores = {}\n",
    "for sent in sentences:\n",
    "    for word in nltk.word_tokenize(sent.lower()):\n",
    "        if word in word_frequencies.keys():\n",
    "            if len(sent.split(' ')) < 30:\n",
    "                if sent not in sentence_scores.keys():\n",
    "                    sentence_scores[sent] = word_frequencies[word]\n",
    "                else:\n",
    "                    sentence_scores[sent] += word_frequencies[word]"
   ]
  },
  {
   "cell_type": "markdown",
   "metadata": {},
   "source": [
    "## STEP 3 : Summary Generation\n",
    "### Outputting the top 17 sentences as the summary"
   ]
  },
  {
   "cell_type": "code",
   "execution_count": 56,
   "metadata": {},
   "outputs": [
    {
     "name": "stdout",
     "output_type": "stream",
     "text": [
      "Federer has been handed a difficult draw where could could come across Kevin Anderson, Novak Djokovic and Rafael Nadal in the latter rounds. He used his first break point to close out the first set before going up 3-0 in the second and wrapping up the win on his first match point. Federer's projected route to the Paris final could also lead to matches against Kevin Anderson and Novak Djokovic. Two players, Stefanos Tsitsipas and Kyle Edmund, won their first career ATP titles last week (13:26). 'BASEL, Switzerland (AP), Roger Federer advanced to the 14th Swiss Indoors final of his career by beating seventh-seeded Daniil Medvedev 6-1, 6-4 on Saturday. Nadal's appearance in Paris is a big boost to the tournament organisers who could see Roger Federer withdraw. Major players feel that a big event in late November combined with one in January before the Australian Open will mean too much tennis and too little rest. Meanwhile, Federer is hoping he can improve his service game as he hunts his ninth Swiss Indoors title this week. Seeking a ninth title at his hometown event, and a 99th overall, Federer will play 93th-ranked Marius Copil on Sunday. But as it stands, Federer is in the draw and is scheduled to face either former world No 3 Milos Raonic or Jo-Wilfried Tsonga in the second round. Federer's success in Basel last week was the ninth time he has won his hometown tournament. Currently in ninth place, Nishikori with a win could move to within 125 points of the cut for the eight-man event in London next month. Copil upset expectations of a Federer final against Alexander Zverev in a 6-3, 6-7 (6), 6-4 win over the fifth-ranked German in the earlier semifinal. \"On Monday, I am free and will look how I feel,\" Federer said after winning the Swiss Indoors. But with the ATP World Tour Finals due to begin next month, Nadal is ready to prove his fitness before the season-ending event at the 02 Arena. Anderson has a shot at a fifth career title and second of the year after winning in New York in February. \"I think there is a really nice environment and a great atmosphere, especially between some of the veteran players helping some of the younger players out.\n"
     ]
    }
   ],
   "source": [
    "### getting the summary by taking top score sentences\n",
    "\n",
    "import heapq\n",
    "summary_sentences = heapq.nlargest(17, sentence_scores, key=sentence_scores.get)\n",
    "summary = ' '.join(summary_sentences)\n",
    "print(summary)"
   ]
  }
 ],
 "metadata": {
  "kernelspec": {
   "display_name": "Python 2",
   "language": "python",
   "name": "python2"
  },
  "language_info": {
   "codemirror_mode": {
    "name": "ipython",
    "version": 2
   },
   "file_extension": ".py",
   "mimetype": "text/x-python",
   "name": "python",
   "nbconvert_exporter": "python",
   "pygments_lexer": "ipython2",
   "version": "2.7.17"
  }
 },
 "nbformat": 4,
 "nbformat_minor": 2
}
