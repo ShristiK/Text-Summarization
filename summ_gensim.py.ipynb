{
 "cells": [
  {
   "cell_type": "markdown",
   "metadata": {},
   "source": [
    "## Summary Generation using Gensim's Summarize method\n",
    "### Data is read in the initial phase and given as input to Gensim's summarize method. Summaries obtained by varying different input parameter values are also obtained. "
   ]
  },
  {
   "cell_type": "markdown",
   "metadata": {},
   "source": [
    "## Initial Phase\n",
    "### Importing Libraries and Reading Data "
   ]
  },
  {
   "cell_type": "code",
   "execution_count": 41,
   "metadata": {},
   "outputs": [],
   "source": [
    "import gensim\n",
    "import logging\n",
    "import numpy\n",
    "import pandas\n",
    "from gensim.summarization import summarize, keywords\n",
    "import re"
   ]
  },
  {
   "cell_type": "code",
   "execution_count": 7,
   "metadata": {},
   "outputs": [],
   "source": [
    "logging.basicConfig(format='%(asctime)s : %(levelname)s : %(message)s', level=logging.INFO)"
   ]
  },
  {
   "cell_type": "code",
   "execution_count": 8,
   "metadata": {},
   "outputs": [],
   "source": [
    "df = pandas.read_csv('Downloads/tennis_articles_v4.csv')"
   ]
  },
  {
   "cell_type": "markdown",
   "metadata": {},
   "source": [
    "### Storing data from input file and replacing ' with white space "
   ]
  },
  {
   "cell_type": "code",
   "execution_count": 4,
   "metadata": {},
   "outputs": [],
   "source": [
    "sentences = \"\"\n",
    "for a in df['article_text']:\n",
    "    sentences+=a\n",
    "sentences = re.sub(\"'\",\"\",sentences)\n",
    "sentences"
   ]
  },
  {
   "cell_type": "markdown",
   "metadata": {},
   "source": [
    "## Results\n",
    "### Result Obtained from Gensim Summary"
   ]
  },
  {
   "cell_type": "code",
   "execution_count": 37,
   "metadata": {},
   "outputs": [
    {
     "name": "stderr",
     "output_type": "stream",
     "text": [
      "2019-10-28 12:18:13,738 : INFO : adding document #0 to Dictionary(0 unique tokens: [])\n",
      "2019-10-28 12:18:13,746 : INFO : built Dictionary(507 unique tokens: [u'coach', u'forget', u'celebr', u'focus', u'month']...) from 106 documents (total 1071 corpus positions)\n",
      "2019-10-28 12:18:13,753 : INFO : Building graph\n",
      "2019-10-28 12:18:13,754 : INFO : Filling graph\n",
      "2019-10-28 12:18:13,795 : INFO : Removing unreachable nodes of graph\n",
      "2019-10-28 12:18:13,797 : INFO : Pagerank graph\n",
      "2019-10-28 12:18:13,810 : INFO : Sorting pagerank scores\n"
     ]
    },
    {
     "name": "stdout",
     "output_type": "stream",
     "text": [
      "summary:\n",
      "When Im on the courts or when Im on the court playing, Im a competitor and I want to beat every single person whether theyre in the locker room or across the net.So Im not the one to strike up a conversation about the weather and know that in the next few minutes I have to go and try to win a tennis match.\n",
      "There are so many other things that were interested in, that we do.BASEL, Switzerland (AP), Roger Federer advanced to the 14th Swiss Indoors final of his career by beating seventh-seeded Daniil Medvedev 6-1, 6-4 on Saturday.\n",
      "Seeking a ninth title at his hometown event, and a 99th overall, Federer will play 93th-ranked Marius Copil on Sunday.\n",
      "Federer dominated the 20th-ranked Medvedev and had his first match-point chance to break serve again at 5-1.\n",
      "Speaking at the Swiss Indoors tournament where he will play in Sundays final against Romanian qualifier Marius Copil, the world number three said that given the impossibly short time frame to make a decision, he opted out of any commitment.\n",
      "Major players feel that a big event in late November combined with one in January before the Australian Open will mean too much tennis and too little rest.\n",
      "This was designed for the future generation of players.\" Argentina and Britain received wild cards to the new-look event, and will compete along with the four 2018 semi-finalists and the 12 teams who win qualifying rounds next February.\n",
      "\"I dont like being under that kind of pressure,\" Federer said of the deadline Kosmos handed him.Kei Nishikori will try to end his long losing streak in ATP finals and Kevin Anderson will go for his second title of the year at the Erste Bank Open on Sunday.\n",
      "Anderson has a shot at a fifth career title and second of the year after winning in New York in February.\n",
      "The Spaniard broke Anderson twice in the second but didnt get another chance on the South Africans serve in the final set.Federer, 37, first broke through on tour over two decades ago and he has since gone on to enjoy a glittering career.\n",
      "The 20-time Grand Slam winner is chasing his 99th ATP title at the Swiss Indoors this week and he faces Jan-Lennard Struff in the second round on Thursday (6pm BST).\n",
      "\"I just felt like it really kind of changed where people were a little bit, definitely in the 90s, a lot more quiet, into themselves, and then it started to become better.\" Meanwhile, Federer is hoping he can improve his service game as he hunts his ninth Swiss Indoors title this week.\n",
      "\"I didnt serve very well [against first-round opponent Filip Kranjovic,\" Federer said.\n",
      "This is where the first rounds can be tricky.\"Nadal has not played tennis since he was forced to retire from the US Open semi-finals against Juan Martin Del Porto with a knee injury.\n",
      "But with the ATP World Tour Finals due to begin next month, Nadal is ready to prove his fitness before the season-ending event at the 02 Arena.\n",
      "Federers projected route to the Paris final could also lead to matches against Kevin Anderson and Novak Djokovic.\n",
      "Nina and Irina give their opinions on what coaching should look like in the future, on both tours (18:55).Federer won the Swiss Indoors last week by beating Romanian qualifier Marius Copil in the final.\n",
      "Federer has been handed a difficult draw where could could come across Kevin Anderson, Novak Djokovic and Rafael Nadal in the latter rounds.\n",
      "But first the 20-time Grand Slam winner wants to train on the Paris Masters court this afternoon before deciding whether to appear for his opening match against either Milos Raonic or Jo-Wilfried Tsonga.\n",
      "\"On Monday, I am free and will look how I feel,\" Federer said after winning the Swiss Indoors.\n",
      "\"And as long as I fear no injury, I play.\" Federers success in Basel last week was the ninth time he has won his hometown tournament.\n"
     ]
    }
   ],
   "source": [
    "print 'summary:'\n",
    "print summarize(sentences)"
   ]
  },
  {
   "cell_type": "markdown",
   "metadata": {},
   "source": [
    "### Shorter Summary obtained by setting ratio to 0.1"
   ]
  },
  {
   "cell_type": "code",
   "execution_count": 38,
   "metadata": {},
   "outputs": [
    {
     "name": "stderr",
     "output_type": "stream",
     "text": [
      "2019-10-28 12:18:20,762 : INFO : adding document #0 to Dictionary(0 unique tokens: [])\n",
      "2019-10-28 12:18:20,769 : INFO : built Dictionary(507 unique tokens: [u'coach', u'forget', u'celebr', u'focus', u'month']...) from 106 documents (total 1071 corpus positions)\n",
      "2019-10-28 12:18:20,774 : INFO : Building graph\n",
      "2019-10-28 12:18:20,776 : INFO : Filling graph\n",
      "2019-10-28 12:18:20,808 : INFO : Removing unreachable nodes of graph\n",
      "2019-10-28 12:18:20,809 : INFO : Pagerank graph\n",
      "2019-10-28 12:18:20,828 : INFO : Sorting pagerank scores\n"
     ]
    },
    {
     "name": "stdout",
     "output_type": "stream",
     "text": [
      "summary:\n",
      "When Im on the courts or when Im on the court playing, Im a competitor and I want to beat every single person whether theyre in the locker room or across the net.So Im not the one to strike up a conversation about the weather and know that in the next few minutes I have to go and try to win a tennis match.\n",
      "There are so many other things that were interested in, that we do.BASEL, Switzerland (AP), Roger Federer advanced to the 14th Swiss Indoors final of his career by beating seventh-seeded Daniil Medvedev 6-1, 6-4 on Saturday.\n",
      "Speaking at the Swiss Indoors tournament where he will play in Sundays final against Romanian qualifier Marius Copil, the world number three said that given the impossibly short time frame to make a decision, he opted out of any commitment.\n",
      "This was designed for the future generation of players.\" Argentina and Britain received wild cards to the new-look event, and will compete along with the four 2018 semi-finalists and the 12 teams who win qualifying rounds next February.\n",
      "\"I dont like being under that kind of pressure,\" Federer said of the deadline Kosmos handed him.Kei Nishikori will try to end his long losing streak in ATP finals and Kevin Anderson will go for his second title of the year at the Erste Bank Open on Sunday.\n",
      "The Spaniard broke Anderson twice in the second but didnt get another chance on the South Africans serve in the final set.Federer, 37, first broke through on tour over two decades ago and he has since gone on to enjoy a glittering career.\n",
      "The 20-time Grand Slam winner is chasing his 99th ATP title at the Swiss Indoors this week and he faces Jan-Lennard Struff in the second round on Thursday (6pm BST).\n",
      "\"I just felt like it really kind of changed where people were a little bit, definitely in the 90s, a lot more quiet, into themselves, and then it started to become better.\" Meanwhile, Federer is hoping he can improve his service game as he hunts his ninth Swiss Indoors title this week.\n",
      "Nina and Irina give their opinions on what coaching should look like in the future, on both tours (18:55).Federer won the Swiss Indoors last week by beating Romanian qualifier Marius Copil in the final.\n",
      "\"And as long as I fear no injury, I play.\" Federers success in Basel last week was the ninth time he has won his hometown tournament.\n"
     ]
    }
   ],
   "source": [
    "print 'summary:'\n",
    "print summarize(sentences, ratio = 0.1)"
   ]
  },
  {
   "cell_type": "markdown",
   "metadata": {},
   "source": [
    "### Summary obtained as a complete paragraph with ratio as 0.1 "
   ]
  },
  {
   "cell_type": "code",
   "execution_count": 39,
   "metadata": {},
   "outputs": [
    {
     "name": "stderr",
     "output_type": "stream",
     "text": [
      "2019-10-28 12:18:24,359 : INFO : adding document #0 to Dictionary(0 unique tokens: [])\n",
      "2019-10-28 12:18:24,364 : INFO : built Dictionary(507 unique tokens: [u'coach', u'forget', u'celebr', u'focus', u'month']...) from 106 documents (total 1071 corpus positions)\n",
      "2019-10-28 12:18:24,368 : INFO : Building graph\n",
      "2019-10-28 12:18:24,369 : INFO : Filling graph\n",
      "2019-10-28 12:18:24,404 : INFO : Removing unreachable nodes of graph\n",
      "2019-10-28 12:18:24,407 : INFO : Pagerank graph\n",
      "2019-10-28 12:18:24,434 : INFO : Sorting pagerank scores\n"
     ]
    },
    {
     "name": "stdout",
     "output_type": "stream",
     "text": [
      "summary:\n",
      "['When Im on the courts or when Im on the court playing, Im a competitor and I want to beat every single person whether theyre in the locker room or across the net.So Im not the one to strike up a conversation about the weather and know that in the next few minutes I have to go and try to win a tennis match.', 'There are so many other things that were interested in, that we do.BASEL, Switzerland (AP), Roger Federer advanced to the 14th Swiss Indoors final of his career by beating seventh-seeded Daniil Medvedev 6-1, 6-4 on Saturday.', 'Speaking at the Swiss Indoors tournament where he will play in Sundays final against Romanian qualifier Marius Copil, the world number three said that given the impossibly short time frame to make a decision, he opted out of any commitment.', 'This was designed for the future generation of players.\" Argentina and Britain received wild cards to the new-look event, and will compete along with the four 2018 semi-finalists and the 12 teams who win qualifying rounds next February.', '\"I dont like being under that kind of pressure,\" Federer said of the deadline Kosmos handed him.Kei Nishikori will try to end his long losing streak in ATP finals and Kevin Anderson will go for his second title of the year at the Erste Bank Open on Sunday.', 'The Spaniard broke Anderson twice in the second but didnt get another chance on the South Africans serve in the final set.Federer, 37, first broke through on tour over two decades ago and he has since gone on to enjoy a glittering career.', 'The 20-time Grand Slam winner is chasing his 99th ATP title at the Swiss Indoors this week and he faces Jan-Lennard Struff in the second round on Thursday (6pm BST).', '\"I just felt like it really kind of changed where people were a little bit, definitely in the 90s, a lot more quiet, into themselves, and then it started to become better.\" Meanwhile, Federer is hoping he can improve his service game as he hunts his ninth Swiss Indoors title this week.', 'Nina and Irina give their opinions on what coaching should look like in the future, on both tours (18:55).Federer won the Swiss Indoors last week by beating Romanian qualifier Marius Copil in the final.', '\"And as long as I fear no injury, I play.\" Federers success in Basel last week was the ninth time he has won his hometown tournament.']\n"
     ]
    }
   ],
   "source": [
    "print 'summary:'\n",
    "print summarize(sentences, ratio = 0.1, split = True)"
   ]
  },
  {
   "cell_type": "markdown",
   "metadata": {},
   "source": [
    "### A more concise summary with ratio as 0.01"
   ]
  },
  {
   "cell_type": "code",
   "execution_count": 40,
   "metadata": {},
   "outputs": [
    {
     "name": "stderr",
     "output_type": "stream",
     "text": [
      "2019-10-28 12:18:27,184 : INFO : adding document #0 to Dictionary(0 unique tokens: [])\n",
      "2019-10-28 12:18:27,191 : INFO : built Dictionary(507 unique tokens: [u'coach', u'forget', u'celebr', u'focus', u'month']...) from 106 documents (total 1071 corpus positions)\n",
      "2019-10-28 12:18:27,195 : INFO : Building graph\n",
      "2019-10-28 12:18:27,196 : INFO : Filling graph\n",
      "2019-10-28 12:18:27,227 : INFO : Removing unreachable nodes of graph\n",
      "2019-10-28 12:18:27,229 : INFO : Pagerank graph\n",
      "2019-10-28 12:18:27,266 : INFO : Sorting pagerank scores\n"
     ]
    },
    {
     "name": "stdout",
     "output_type": "stream",
     "text": [
      "summary:\n",
      "['\"I dont like being under that kind of pressure,\" Federer said of the deadline Kosmos handed him.Kei Nishikori will try to end his long losing streak in ATP finals and Kevin Anderson will go for his second title of the year at the Erste Bank Open on Sunday.']\n"
     ]
    }
   ],
   "source": [
    "print 'summary:'\n",
    "print summarize(sentences, ratio = 0.01, split = True)"
   ]
  },
  {
   "cell_type": "markdown",
   "metadata": {},
   "source": [
    "### Different keywords identified by Gensim while generating Summary"
   ]
  },
  {
   "cell_type": "code",
   "execution_count": 42,
   "metadata": {},
   "outputs": [
    {
     "name": "stdout",
     "output_type": "stream",
     "text": [
      "federer\n",
      "federation\n",
      "federers\n",
      "player\n",
      "tennis players\n",
      "finals\n",
      "finally\n",
      "anderson\n",
      "nadal\n",
      "nadals\n",
      "nishikori\n",
      "event\n",
      "events\n",
      "serve\n",
      "indoors final\n",
      "cup\n",
      "playing\n",
      "play\n",
      "played\n",
      "different\n",
      "courts\n",
      "court\n",
      "weeks\n",
      "week\n",
      "time\n",
      "times\n",
      "point\n",
      "points\n",
      "like\n",
      "copil\n",
      "competitive\n",
      "competition\n",
      "titles\n",
      "tour\n",
      "tours\n",
      "tournament\n",
      "tournaments\n",
      "career\n",
      "seed\n",
      "round\n",
      "rounds\n",
      "atps\n",
      "atp\n",
      "atmosphere\n",
      "zverev\n",
      "zverevs\n",
      "world\n",
      "beat\n",
      "beating\n",
      "losing\n",
      "lose\n",
      "open\n",
      "opening\n",
      "spaniard\n",
      "match\n",
      "matches\n",
      "kosmos\n",
      "ninth title\n",
      "slam\n",
      "draw\n",
      "win\n",
      "winning\n",
      "nina\n",
      "looks\n",
      "look\n",
      "masters\n",
      "huge\n",
      "davenport\n",
      "roger\n",
      "doesnt\n",
      "moments\n",
      "happy\n",
      "storylines\n",
      "youre\n",
      "doubts\n",
      "doubt\n",
      "davis\n",
      "winner\n",
      "defending\n",
      "new\n",
      "major\n",
      "big\n",
      "qualifying\n",
      "qualifier\n",
      "qualify\n",
      "quarter\n",
      "november\n",
      "maybe\n",
      "received wild\n",
      "del\n",
      "year\n",
      "years\n",
      "thats\n",
      "footballer\n",
      "gerard\n",
      "martin\n",
      "second\n",
      "said\n"
     ]
    }
   ],
   "source": [
    "print keywords(sentences)"
   ]
  }
 ],
 "metadata": {
  "kernelspec": {
   "display_name": "Python 2",
   "language": "python",
   "name": "python2"
  },
  "language_info": {
   "codemirror_mode": {
    "name": "ipython",
    "version": 2
   },
   "file_extension": ".py",
   "mimetype": "text/x-python",
   "name": "python",
   "nbconvert_exporter": "python",
   "pygments_lexer": "ipython2",
   "version": "2.7.17"
  }
 },
 "nbformat": 4,
 "nbformat_minor": 2
}
