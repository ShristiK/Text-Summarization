{
 "cells": [
  {
   "cell_type": "markdown",
   "metadata": {},
   "source": [
    "Generating text smmary using Gensim summary method"
   ]
  },
  {
   "cell_type": "code",
   "execution_count": 41,
   "metadata": {},
   "outputs": [],
   "source": [
    "import gensim\n",
    "import logging\n",
    "import numpy\n",
    "import pandas\n",
    "from gensim.summarization import summarize, keywords\n",
    "import re"
   ]
  },
  {
   "cell_type": "code",
   "execution_count": 7,
   "metadata": {},
   "outputs": [],
   "source": [
    "logging.basicConfig(format='%(asctime)s : %(levelname)s : %(message)s', level=logging.INFO)"
   ]
  },
  {
   "cell_type": "code",
   "execution_count": 8,
   "metadata": {},
   "outputs": [],
   "source": [
    "df = pandas.read_csv('Downloads/tennis_articles_v4.csv')"
   ]
  },
  {
   "cell_type": "code",
   "execution_count": 36,
   "metadata": {},
   "outputs": [
    {
     "data": {
      "text/plain": [
       "'Maria Sharapova has basically no friends as tennis players on the WTA Tour. The Russian player has no problems in openly speaking about it and in a recent interview she said: I dont really hide any feelings too much. I think everyone knows this is my job here. When Im on the courts or when Im on the court playing, Im a competitor and I want to beat every single person whether theyre in the locker room or across the net.So Im not the one to strike up a conversation about the weather and know that in the next few minutes I have to go and try to win a tennis match. Im a pretty competitive girl. I say my hellos, but Im not sending any players flowers as well. Uhm, Im not really friendly or close to many players. I have not a lot of friends away from the courts. When she said she is not really close to a lot of players, is that something strategic that she is doing? Is it different on the mens tour than the womens tour? No, not at all. I think just because youre in the same sport doesnt mean that you have to be friends with everyone just because youre categorized, youre a tennis player, so youre going to get along with tennis players. I think every person has different interests. I have friends that have completely different jobs and interests, and Ive met them in very different parts of my life. I think everyone just thinks because were tennis players we should be the greatest of friends. But ultimately tennis is just a very small part of what we do. There are so many other things that were interested in, that we do.BASEL, Switzerland (AP), Roger Federer advanced to the 14th Swiss Indoors final of his career by beating seventh-seeded Daniil Medvedev 6-1, 6-4 on Saturday. Seeking a ninth title at his hometown event, and a 99th overall, Federer will play 93th-ranked Marius Copil on Sunday. Federer dominated the 20th-ranked Medvedev and had his first match-point chance to break serve again at 5-1. He then dropped his serve to love, and let another match point slip in Medvedevs next service game by netting a backhand. He clinched on his fourth chance when Medvedev netted from the baseline. Copil upset expectations of a Federer final against Alexander Zverev in a 6-3, 6-7 (6), 6-4 win over the fifth-ranked German in the earlier semifinal. The Romanian aims for a first title after arriving at Basel without a career win over a top-10 opponent. Copil has two after also beating No. 6 Marin Cilic in the second round. Copil fired 26 aces past Zverev and never dropped serve, clinching after 2 1/2 hours with a forehand volley winner to break Zverev for the second time in the semifinal. He came through two rounds of qualifying last weekend to reach the Basel main draw, including beating Zverevs older brother, Mischa. Federer had an easier time than in his only previous match against Medvedev, a three-setter at Shanghai two weeks ago.Roger Federer has revealed that organisers of the re-launched and condensed Davis Cup gave him three days to decide if he would commit to the controversial competition. Speaking at the Swiss Indoors tournament where he will play in Sundays final against Romanian qualifier Marius Copil, the world number three said that given the impossibly short time frame to make a decision, he opted out of any commitment. \"They only left me three days to decide\", Federer said. \"I didnt to have time to consult with all the people I had to consult. \"I could not make a decision in that time, so I told them to do what they wanted.\" The 20-time Grand Slam champion has voiced doubts about the wisdom of the one-week format to be introduced by organisers Kosmos, who have promised the International Tennis Federation up to $3 billion in prize money over the next quarter-century. The competition is set to feature 18 countries in the November 18-24 finals in Madrid next year, and will replace the classic home-and-away ties played four times per year for decades. Kosmos is headed by Barcelona footballer Gerard Pique, who is hoping fellow Spaniard Rafael Nadal will play in the upcoming event. Novak Djokovic has said he will give precedence to the ATPs intended re-launch of the defunct World Team Cup in January 2020, at various Australian venues. Major players feel that a big event in late November combined with one in January before the Australian Open will mean too much tennis and too little rest. Federer said earlier this month in Shanghai in that his chances of playing the Davis Cup were all but non-existent. \"I highly doubt it, of course. We will see what happens,\" he said. \"I do not think this was designed for me, anyhow. This was designed for the future generation of players.\" Argentina and Britain received wild cards to the new-look event, and will compete along with the four 2018 semi-finalists and the 12 teams who win qualifying rounds next February. \"I dont like being under that kind of pressure,\" Federer said of the deadline Kosmos handed him.Kei Nishikori will try to end his long losing streak in ATP finals and Kevin Anderson will go for his second title of the year at the Erste Bank Open on Sunday. The fifth-seeded Nishikori reached his third final of 2018 after beating Mikhail Kukushkin of Kazakhstan 6-4, 6-3 in the semifinals. A winner of 11 ATP events, Nishikori hasnt triumphed since winning in Memphis in February 2016. He has lost eight straight finals since. The second-seeded Anderson defeated Fernando Verdasco 6-3, 3-6, 6-4. Anderson has a shot at a fifth career title and second of the year after winning in New York in February. Nishikori leads Anderson 4-2 on career matchups, but the South African won their only previous meeting this year. With a victory on Sunday, Anderson will qualify for the ATP Finals. Currently in ninth place, Nishikori with a win could move to within 125 points of the cut for the eight-man event in London next month. Nishikori held serve throughout against Kukushkin, who came through qualifying. He used his first break point to close out the first set before going up 3-0 in the second and wrapping up the win on his first match point. Against Verdasco, Anderson hit nine of his 19 aces in the opening set. The Spaniard broke Anderson twice in the second but didnt get another chance on the South Africans serve in the final set.Federer, 37, first broke through on tour over two decades ago and he has since gone on to enjoy a glittering career. The 20-time Grand Slam winner is chasing his 99th ATP title at the Swiss Indoors this week and he faces Jan-Lennard Struff in the second round on Thursday (6pm BST). Davenport enjoyed most of her success in the late 1990s and her third and final major tournament win came at the 2000 Australian Open. But she claims the mentality of professional tennis players slowly began to change after the new millennium. \"It seems pretty friendly right now,\" said Davenport. \"I think there is a really nice environment and a great atmosphere, especially between some of the veteran players helping some of the younger players out. \"Its a very pleasant atmosphere, Id have to say, around the locker rooms. \"I felt like the best weeks that I had to get to know players when I was playing were the Fed Cup weeks or the Olympic weeks, not necessarily during the tournaments. \"And even though maybe we had smaller teams, I still think we kept to ourselves quite a bit. \"Not always, but I really feel like in the mid-2000 years there was a huge shift of the attitudes of the top players and being more friendly and being more giving, and a lot of that had to do with players like Roger coming up. \"I just felt like it really kind of changed where people were a little bit, definitely in the 90s, a lot more quiet, into themselves, and then it started to become better.\" Meanwhile, Federer is hoping he can improve his service game as he hunts his ninth Swiss Indoors title this week. \"I didnt serve very well [against first-round opponent Filip Kranjovic,\" Federer said. \"I think I was misfiring the corners, I was not hitting the lines enough. \"Clearly you make your life more difficult, but still I was up 6-2, 3-1, break points, so things could have ended very quickly today, even though I didnt have the best serve percentage stats. \"But maybe thats exactly what caught up to me eventually. Its just getting used to it. This is where the first rounds can be tricky.\"Nadal has not played tennis since he was forced to retire from the US Open semi-finals against Juan Martin Del Porto with a knee injury. The world No 1 has been forced to miss Spains Davis Cup clash with France and the Asian hard court season. But with the ATP World Tour Finals due to begin next month, Nadal is ready to prove his fitness before the season-ending event at the 02 Arena. Nadal flew to Paris on Friday and footage from the Paris Masters official Twitter account shows the Spaniard smiling as he strides onto court for practice. The Paris Masters draw has been made and Nadal will start his campaign on Tuesday or Wednesday against either Fernando Verdasco or Jeremy Chardy. Nadal could then play defending champion Jack Sock in the third round before a potential quarter-final with either Borna Coric or Dominic Thiem. Nadals appearance in Paris is a big boost to the tournament organisers who could see Roger Federer withdraw. Federer is in action at the Swiss Indoors in Basel and if he reaches the final, he could pull out of Paris in a bid to stay fresh for London. But as it stands, Federer is in the draw and is scheduled to face either former world No 3 Milos Raonic or Jo-Wilfried Tsonga in the second round. Federers projected route to the Paris final could also lead to matches against Kevin Anderson and Novak Djokovic. Djokovic could play Marco Cecchinato in the second round. British No 1 Kyle Edmund is the 12th seed in Paris and will get underway in round two against either Karen Khachanov or Filip Krajinovic.Tennis giveth, and tennis taketh away. The end of the season is finally in sight, and with so many players defending,or losing,huge chunks of points in Singapore, Zhuhai and London, podcast co-hosts Nina Pantic and Irina Falconi discuss the art of defending points (02:14). Its no secret that Jack Sock has struggled on the singles court this year (his record is 7-19). He could lose 1,400 points in the next few weeks, but instead of focusing on the negative, it can all be about perspective (06:28). Lets also not forget his two Grand Slam doubles triumphs this season. Two players, Stefanos Tsitsipas and Kyle Edmund, won their first career ATP titles last week (13:26). Its a big deal because you never forget your first. Irina looks back at her WTA title win in Bogota in 2016, and tells an unforgettable story about her semifinal drama (14:04). In Singapore, one of the biggest storylines (aside from the matches, of course) has been the on-court coaching debate. Nina and Irina give their opinions on what coaching should look like in the future, on both tours (18:55).Federer won the Swiss Indoors last week by beating Romanian qualifier Marius Copil in the final. The 37-year-old claimed his 99th ATP title and is hunting the century in the French capital this week. Federer has been handed a difficult draw where could could come across Kevin Anderson, Novak Djokovic and Rafael Nadal in the latter rounds. But first the 20-time Grand Slam winner wants to train on the Paris Masters court this afternoon before deciding whether to appear for his opening match against either Milos Raonic or Jo-Wilfried Tsonga. \"On Monday, I am free and will look how I feel,\" Federer said after winning the Swiss Indoors. \"On Tuesday I will fly to Paris and train in the afternoon to be ready for my first match on Wednesday night. \"I felt good all week and better every day. \"We also had the impression that at this stage it might be better to play matches than to train. \"And as long as I fear no injury, I play.\" Federers success in Basel last week was the ninth time he has won his hometown tournament. And he was delighted to be watched on by all of his family and friends as he purchased 60 tickets for the final for those dearest to him. \"My children, my parents, my sister and my team are all there,\" Federer added. \"It is always very emotional for me to thank my team. And sometimes it tilts with the emotions, sometimes I just stumble. \"It means the world to me. It makes me incredibly happy to win my home tournament and make people happy here. \"I do not know if its maybe my last title, so today I try a lot more to absorb that and enjoy the moments much more consciously. \"Maybe I should celebrate as if it were my last title. \"There are very touching moments: seeing the ball children, the standing ovations, all the familiar faces in the audience. Because it was not always easy in the last weeks.\"'"
      ]
     },
     "execution_count": 36,
     "metadata": {},
     "output_type": "execute_result"
    }
   ],
   "source": [
    "sentences = \"\"\n",
    "for a in df['article_text']:\n",
    "    sentences+=a\n",
    "sentences = re.sub(\"'\",\"\",sentences)\n",
    "sentences"
   ]
  },
  {
   "cell_type": "code",
   "execution_count": 37,
   "metadata": {},
   "outputs": [
    {
     "name": "stderr",
     "output_type": "stream",
     "text": [
      "2019-10-28 12:18:13,738 : INFO : adding document #0 to Dictionary(0 unique tokens: [])\n",
      "2019-10-28 12:18:13,746 : INFO : built Dictionary(507 unique tokens: [u'coach', u'forget', u'celebr', u'focus', u'month']...) from 106 documents (total 1071 corpus positions)\n",
      "2019-10-28 12:18:13,753 : INFO : Building graph\n",
      "2019-10-28 12:18:13,754 : INFO : Filling graph\n",
      "2019-10-28 12:18:13,795 : INFO : Removing unreachable nodes of graph\n",
      "2019-10-28 12:18:13,797 : INFO : Pagerank graph\n",
      "2019-10-28 12:18:13,810 : INFO : Sorting pagerank scores\n"
     ]
    },
    {
     "name": "stdout",
     "output_type": "stream",
     "text": [
      "summary:\n",
      "When Im on the courts or when Im on the court playing, Im a competitor and I want to beat every single person whether theyre in the locker room or across the net.So Im not the one to strike up a conversation about the weather and know that in the next few minutes I have to go and try to win a tennis match.\n",
      "There are so many other things that were interested in, that we do.BASEL, Switzerland (AP), Roger Federer advanced to the 14th Swiss Indoors final of his career by beating seventh-seeded Daniil Medvedev 6-1, 6-4 on Saturday.\n",
      "Seeking a ninth title at his hometown event, and a 99th overall, Federer will play 93th-ranked Marius Copil on Sunday.\n",
      "Federer dominated the 20th-ranked Medvedev and had his first match-point chance to break serve again at 5-1.\n",
      "Speaking at the Swiss Indoors tournament where he will play in Sundays final against Romanian qualifier Marius Copil, the world number three said that given the impossibly short time frame to make a decision, he opted out of any commitment.\n",
      "Major players feel that a big event in late November combined with one in January before the Australian Open will mean too much tennis and too little rest.\n",
      "This was designed for the future generation of players.\" Argentina and Britain received wild cards to the new-look event, and will compete along with the four 2018 semi-finalists and the 12 teams who win qualifying rounds next February.\n",
      "\"I dont like being under that kind of pressure,\" Federer said of the deadline Kosmos handed him.Kei Nishikori will try to end his long losing streak in ATP finals and Kevin Anderson will go for his second title of the year at the Erste Bank Open on Sunday.\n",
      "Anderson has a shot at a fifth career title and second of the year after winning in New York in February.\n",
      "The Spaniard broke Anderson twice in the second but didnt get another chance on the South Africans serve in the final set.Federer, 37, first broke through on tour over two decades ago and he has since gone on to enjoy a glittering career.\n",
      "The 20-time Grand Slam winner is chasing his 99th ATP title at the Swiss Indoors this week and he faces Jan-Lennard Struff in the second round on Thursday (6pm BST).\n",
      "\"I just felt like it really kind of changed where people were a little bit, definitely in the 90s, a lot more quiet, into themselves, and then it started to become better.\" Meanwhile, Federer is hoping he can improve his service game as he hunts his ninth Swiss Indoors title this week.\n",
      "\"I didnt serve very well [against first-round opponent Filip Kranjovic,\" Federer said.\n",
      "This is where the first rounds can be tricky.\"Nadal has not played tennis since he was forced to retire from the US Open semi-finals against Juan Martin Del Porto with a knee injury.\n",
      "But with the ATP World Tour Finals due to begin next month, Nadal is ready to prove his fitness before the season-ending event at the 02 Arena.\n",
      "Federers projected route to the Paris final could also lead to matches against Kevin Anderson and Novak Djokovic.\n",
      "Nina and Irina give their opinions on what coaching should look like in the future, on both tours (18:55).Federer won the Swiss Indoors last week by beating Romanian qualifier Marius Copil in the final.\n",
      "Federer has been handed a difficult draw where could could come across Kevin Anderson, Novak Djokovic and Rafael Nadal in the latter rounds.\n",
      "But first the 20-time Grand Slam winner wants to train on the Paris Masters court this afternoon before deciding whether to appear for his opening match against either Milos Raonic or Jo-Wilfried Tsonga.\n",
      "\"On Monday, I am free and will look how I feel,\" Federer said after winning the Swiss Indoors.\n",
      "\"And as long as I fear no injury, I play.\" Federers success in Basel last week was the ninth time he has won his hometown tournament.\n"
     ]
    }
   ],
   "source": [
    "print 'summary:'\n",
    "print summarize(sentences)"
   ]
  },
  {
   "cell_type": "code",
   "execution_count": 38,
   "metadata": {},
   "outputs": [
    {
     "name": "stderr",
     "output_type": "stream",
     "text": [
      "2019-10-28 12:18:20,762 : INFO : adding document #0 to Dictionary(0 unique tokens: [])\n",
      "2019-10-28 12:18:20,769 : INFO : built Dictionary(507 unique tokens: [u'coach', u'forget', u'celebr', u'focus', u'month']...) from 106 documents (total 1071 corpus positions)\n",
      "2019-10-28 12:18:20,774 : INFO : Building graph\n",
      "2019-10-28 12:18:20,776 : INFO : Filling graph\n",
      "2019-10-28 12:18:20,808 : INFO : Removing unreachable nodes of graph\n",
      "2019-10-28 12:18:20,809 : INFO : Pagerank graph\n",
      "2019-10-28 12:18:20,828 : INFO : Sorting pagerank scores\n"
     ]
    },
    {
     "name": "stdout",
     "output_type": "stream",
     "text": [
      "summary:\n",
      "When Im on the courts or when Im on the court playing, Im a competitor and I want to beat every single person whether theyre in the locker room or across the net.So Im not the one to strike up a conversation about the weather and know that in the next few minutes I have to go and try to win a tennis match.\n",
      "There are so many other things that were interested in, that we do.BASEL, Switzerland (AP), Roger Federer advanced to the 14th Swiss Indoors final of his career by beating seventh-seeded Daniil Medvedev 6-1, 6-4 on Saturday.\n",
      "Speaking at the Swiss Indoors tournament where he will play in Sundays final against Romanian qualifier Marius Copil, the world number three said that given the impossibly short time frame to make a decision, he opted out of any commitment.\n",
      "This was designed for the future generation of players.\" Argentina and Britain received wild cards to the new-look event, and will compete along with the four 2018 semi-finalists and the 12 teams who win qualifying rounds next February.\n",
      "\"I dont like being under that kind of pressure,\" Federer said of the deadline Kosmos handed him.Kei Nishikori will try to end his long losing streak in ATP finals and Kevin Anderson will go for his second title of the year at the Erste Bank Open on Sunday.\n",
      "The Spaniard broke Anderson twice in the second but didnt get another chance on the South Africans serve in the final set.Federer, 37, first broke through on tour over two decades ago and he has since gone on to enjoy a glittering career.\n",
      "The 20-time Grand Slam winner is chasing his 99th ATP title at the Swiss Indoors this week and he faces Jan-Lennard Struff in the second round on Thursday (6pm BST).\n",
      "\"I just felt like it really kind of changed where people were a little bit, definitely in the 90s, a lot more quiet, into themselves, and then it started to become better.\" Meanwhile, Federer is hoping he can improve his service game as he hunts his ninth Swiss Indoors title this week.\n",
      "Nina and Irina give their opinions on what coaching should look like in the future, on both tours (18:55).Federer won the Swiss Indoors last week by beating Romanian qualifier Marius Copil in the final.\n",
      "\"And as long as I fear no injury, I play.\" Federers success in Basel last week was the ninth time he has won his hometown tournament.\n"
     ]
    }
   ],
   "source": [
    "print 'summary:'\n",
    "print summarize(sentences, ratio = 0.1)"
   ]
  },
  {
   "cell_type": "code",
   "execution_count": 39,
   "metadata": {},
   "outputs": [
    {
     "name": "stderr",
     "output_type": "stream",
     "text": [
      "2019-10-28 12:18:24,359 : INFO : adding document #0 to Dictionary(0 unique tokens: [])\n",
      "2019-10-28 12:18:24,364 : INFO : built Dictionary(507 unique tokens: [u'coach', u'forget', u'celebr', u'focus', u'month']...) from 106 documents (total 1071 corpus positions)\n",
      "2019-10-28 12:18:24,368 : INFO : Building graph\n",
      "2019-10-28 12:18:24,369 : INFO : Filling graph\n",
      "2019-10-28 12:18:24,404 : INFO : Removing unreachable nodes of graph\n",
      "2019-10-28 12:18:24,407 : INFO : Pagerank graph\n",
      "2019-10-28 12:18:24,434 : INFO : Sorting pagerank scores\n"
     ]
    },
    {
     "name": "stdout",
     "output_type": "stream",
     "text": [
      "summary:\n",
      "['When Im on the courts or when Im on the court playing, Im a competitor and I want to beat every single person whether theyre in the locker room or across the net.So Im not the one to strike up a conversation about the weather and know that in the next few minutes I have to go and try to win a tennis match.', 'There are so many other things that were interested in, that we do.BASEL, Switzerland (AP), Roger Federer advanced to the 14th Swiss Indoors final of his career by beating seventh-seeded Daniil Medvedev 6-1, 6-4 on Saturday.', 'Speaking at the Swiss Indoors tournament where he will play in Sundays final against Romanian qualifier Marius Copil, the world number three said that given the impossibly short time frame to make a decision, he opted out of any commitment.', 'This was designed for the future generation of players.\" Argentina and Britain received wild cards to the new-look event, and will compete along with the four 2018 semi-finalists and the 12 teams who win qualifying rounds next February.', '\"I dont like being under that kind of pressure,\" Federer said of the deadline Kosmos handed him.Kei Nishikori will try to end his long losing streak in ATP finals and Kevin Anderson will go for his second title of the year at the Erste Bank Open on Sunday.', 'The Spaniard broke Anderson twice in the second but didnt get another chance on the South Africans serve in the final set.Federer, 37, first broke through on tour over two decades ago and he has since gone on to enjoy a glittering career.', 'The 20-time Grand Slam winner is chasing his 99th ATP title at the Swiss Indoors this week and he faces Jan-Lennard Struff in the second round on Thursday (6pm BST).', '\"I just felt like it really kind of changed where people were a little bit, definitely in the 90s, a lot more quiet, into themselves, and then it started to become better.\" Meanwhile, Federer is hoping he can improve his service game as he hunts his ninth Swiss Indoors title this week.', 'Nina and Irina give their opinions on what coaching should look like in the future, on both tours (18:55).Federer won the Swiss Indoors last week by beating Romanian qualifier Marius Copil in the final.', '\"And as long as I fear no injury, I play.\" Federers success in Basel last week was the ninth time he has won his hometown tournament.']\n"
     ]
    }
   ],
   "source": [
    "print 'summary:'\n",
    "print summarize(sentences, ratio = 0.1, split = True)"
   ]
  },
  {
   "cell_type": "code",
   "execution_count": 40,
   "metadata": {},
   "outputs": [
    {
     "name": "stderr",
     "output_type": "stream",
     "text": [
      "2019-10-28 12:18:27,184 : INFO : adding document #0 to Dictionary(0 unique tokens: [])\n",
      "2019-10-28 12:18:27,191 : INFO : built Dictionary(507 unique tokens: [u'coach', u'forget', u'celebr', u'focus', u'month']...) from 106 documents (total 1071 corpus positions)\n",
      "2019-10-28 12:18:27,195 : INFO : Building graph\n",
      "2019-10-28 12:18:27,196 : INFO : Filling graph\n",
      "2019-10-28 12:18:27,227 : INFO : Removing unreachable nodes of graph\n",
      "2019-10-28 12:18:27,229 : INFO : Pagerank graph\n",
      "2019-10-28 12:18:27,266 : INFO : Sorting pagerank scores\n"
     ]
    },
    {
     "name": "stdout",
     "output_type": "stream",
     "text": [
      "summary:\n",
      "['\"I dont like being under that kind of pressure,\" Federer said of the deadline Kosmos handed him.Kei Nishikori will try to end his long losing streak in ATP finals and Kevin Anderson will go for his second title of the year at the Erste Bank Open on Sunday.']\n"
     ]
    }
   ],
   "source": [
    "print 'summary:'\n",
    "print summarize(sentences, ratio = 0.01, split = True)"
   ]
  },
  {
   "cell_type": "code",
   "execution_count": 42,
   "metadata": {},
   "outputs": [
    {
     "name": "stdout",
     "output_type": "stream",
     "text": [
      "federer\n",
      "federation\n",
      "federers\n",
      "player\n",
      "tennis players\n",
      "finals\n",
      "finally\n",
      "anderson\n",
      "nadal\n",
      "nadals\n",
      "nishikori\n",
      "event\n",
      "events\n",
      "serve\n",
      "indoors final\n",
      "cup\n",
      "playing\n",
      "play\n",
      "played\n",
      "different\n",
      "courts\n",
      "court\n",
      "weeks\n",
      "week\n",
      "time\n",
      "times\n",
      "point\n",
      "points\n",
      "like\n",
      "copil\n",
      "competitive\n",
      "competition\n",
      "titles\n",
      "tour\n",
      "tours\n",
      "tournament\n",
      "tournaments\n",
      "career\n",
      "seed\n",
      "round\n",
      "rounds\n",
      "atps\n",
      "atp\n",
      "atmosphere\n",
      "zverev\n",
      "zverevs\n",
      "world\n",
      "beat\n",
      "beating\n",
      "losing\n",
      "lose\n",
      "open\n",
      "opening\n",
      "spaniard\n",
      "match\n",
      "matches\n",
      "kosmos\n",
      "ninth title\n",
      "slam\n",
      "draw\n",
      "win\n",
      "winning\n",
      "nina\n",
      "looks\n",
      "look\n",
      "masters\n",
      "huge\n",
      "davenport\n",
      "roger\n",
      "doesnt\n",
      "moments\n",
      "happy\n",
      "storylines\n",
      "youre\n",
      "doubts\n",
      "doubt\n",
      "davis\n",
      "winner\n",
      "defending\n",
      "new\n",
      "major\n",
      "big\n",
      "qualifying\n",
      "qualifier\n",
      "qualify\n",
      "quarter\n",
      "november\n",
      "maybe\n",
      "received wild\n",
      "del\n",
      "year\n",
      "years\n",
      "thats\n",
      "footballer\n",
      "gerard\n",
      "martin\n",
      "second\n",
      "said\n"
     ]
    }
   ],
   "source": [
    "print keywords(sentences)"
   ]
  },
  {
   "cell_type": "code",
   "execution_count": null,
   "metadata": {},
   "outputs": [],
   "source": []
  }
 ],
 "metadata": {
  "kernelspec": {
   "display_name": "Python 2",
   "language": "python",
   "name": "python2"
  },
  "language_info": {
   "codemirror_mode": {
    "name": "ipython",
    "version": 2
   },
   "file_extension": ".py",
   "mimetype": "text/x-python",
   "name": "python",
   "nbconvert_exporter": "python",
   "pygments_lexer": "ipython2",
   "version": "2.7.12"
  }
 },
 "nbformat": 4,
 "nbformat_minor": 2
}
